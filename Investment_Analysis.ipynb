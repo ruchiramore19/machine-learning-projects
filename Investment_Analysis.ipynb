{
 "cells": [
  {
   "cell_type": "markdown",
   "metadata": {},
   "source": [
    "# Checkpoint 1"
   ]
  },
  {
   "cell_type": "code",
   "execution_count": 1,
   "metadata": {
    "scrolled": false
   },
   "outputs": [],
   "source": [
    "import pandas as pd\n",
    "\n",
    "# Companies data \n",
    "companies = pd.read_csv('companies.txt', sep=\"\\t\", encoding='latin1') \n",
    "companies.rename(columns={'permalink':'company_permalink'}, inplace=True)\n",
    "\n",
    "#Data cleaning\n",
    "companies['company_permalink']= companies['company_permalink'].str.lower()\n",
    "\n",
    "#Rounds2 data\n",
    "rounds2 = pd.read_csv('rounds2.csv', encoding= 'latin')\n",
    "\n",
    "#Data cleaning\n",
    "rounds2['company_permalink']= rounds2['company_permalink'].str.lower()\n"
   ]
  },
  {
   "cell_type": "code",
   "execution_count": 2,
   "metadata": {
    "scrolled": false
   },
   "outputs": [
    {
     "name": "stdout",
     "output_type": "stream",
     "text": [
      "-------------Unique Companies in rounds2 data frame---------------\n",
      "66370\n",
      "------------------------------------------------------------------\n",
      "-------------Unique Companies in companies data frame---------------\n",
      "66368\n",
      "--------------------------------------------------------------------\n",
      "-------------Number of records present in rounds2 but not in companies dataframe---------------\n",
      "2\n",
      "-----------------------------------------------------------------------------------------------\n",
      "-------------Number of observations present in master_frame---------------\n",
      "114949\n",
      "--------------------------------------------------------------------------\n"
     ]
    }
   ],
   "source": [
    "#Table 1.1\n",
    "\n",
    "#Solution to Q-1\n",
    "print('-------------Unique Companies in rounds2 data frame---------------')\n",
    "print(rounds2['company_permalink'].nunique())  #66370\n",
    "print('------------------------------------------------------------------')\n",
    "\n",
    "#Solution to Q-2\n",
    "print('-------------Unique Companies in companies data frame---------------')\n",
    "print(companies['company_permalink'].nunique()) #66368\n",
    "print('--------------------------------------------------------------------')\n",
    "\n",
    "#Solution to Q-3\n",
    "#permalink\n",
    "\n",
    "#Solution to Q-4\n",
    "print('-------------Number of records present in rounds2 but not in companies dataframe---------------')\n",
    "print(rounds2['company_permalink'].nunique() - companies['company_permalink'].nunique())  # yes - 2\n",
    "print('-----------------------------------------------------------------------------------------------')\n",
    "\n",
    "#Solution to Q-5\n",
    "#for merging of dataframes in permalink column of rounds2\n",
    "master_frame = pd.merge(rounds2, companies, how='left', on= 'company_permalink')  #114949\n",
    "\n",
    "print('-------------Number of observations present in master_frame---------------')\n",
    "print(master_frame.shape[0])\n",
    "print('--------------------------------------------------------------------------')\n"
   ]
  },
  {
   "cell_type": "markdown",
   "metadata": {},
   "source": [
    "# Checkpoint 2"
   ]
  },
  {
   "cell_type": "code",
   "execution_count": 3,
   "metadata": {
    "scrolled": true
   },
   "outputs": [
    {
     "name": "stdout",
     "output_type": "stream",
     "text": [
      "-------------Average amount invested for each Investment type---------------\n",
      "                       raised_amount_usd\n",
      "funding_round_type                      \n",
      "angel                          958694.47\n",
      "convertible_note              1453438.54\n",
      "debt_financing               17043526.02\n",
      "equity_crowdfunding            538368.21\n",
      "grant                         4300576.34\n",
      "non_equity_assistance          411203.05\n",
      "post_ipo_debt               168704571.82\n",
      "post_ipo_equity              82182493.87\n",
      "private_equity               73308593.03\n",
      "product_crowdfunding          1363131.07\n",
      "secondary_market             79649630.10\n",
      "seed                           719818.00\n",
      "undisclosed                  19242370.23\n",
      "venture                      11748949.13\n",
      "-----------------------------------------------------------------------------\n"
     ]
    }
   ],
   "source": [
    "#Table 2.1\n",
    "\n",
    "#to avoid scientific notations\n",
    "pd.set_option('display.float_format', '{:.2f}'.format)  \n",
    "\n",
    "#Average invested amount for each Investment type\n",
    "print('-------------Average amount invested for each Investment type---------------')\n",
    "print(master_frame.groupby('funding_round_type').mean())\n",
    "print('-----------------------------------------------------------------------------')\n",
    "\n",
    "#Data Frame  required for Plot 1 \n",
    "master_frame_for_plot1 = master_frame\n",
    "\n",
    "#filter data based on the Venture investment type which is best suited to Spark Funds\n",
    "master_frame = master_frame.loc[master_frame['funding_round_type'] == 'venture']\n"
   ]
  },
  {
   "cell_type": "markdown",
   "metadata": {},
   "source": [
    "# Checkpoint 3"
   ]
  },
  {
   "cell_type": "code",
   "execution_count": 4,
   "metadata": {},
   "outputs": [
    {
     "name": "stdout",
     "output_type": "stream",
     "text": [
      "----------Top 9 countries that received highest total investment in venture type----------\n",
      "              raised_amount_usd\n",
      "country_code                   \n",
      "USA             422510842796.00\n",
      "CHN              39835418773.00\n",
      "GBR              20245627416.00\n",
      "IND              14391858718.00\n",
      "CAN               9583332317.00\n",
      "FRA               7259536732.00\n",
      "ISR               6907514579.00\n",
      "DEU               6346959822.00\n",
      "JPN               3363676611.00\n",
      "------------------------------------------------------------------------------------------\n"
     ]
    }
   ],
   "source": [
    "#Table 3.1\n",
    "\n",
    "#find the top9 countries for investment in venture investment type\n",
    "top9 = master_frame.groupby('country_code').sum().sort_values(by = ['raised_amount_usd'], ascending= False).head(9)\n",
    "top9.reset_index(inplace=True)\n",
    "print('----------Top 9 countries that received highest total investment in venture type----------')\n",
    "print(master_frame.groupby('country_code').sum().sort_values(by = ['raised_amount_usd'], ascending= False).head(9))\n",
    "print('------------------------------------------------------------------------------------------')"
   ]
  },
  {
   "cell_type": "markdown",
   "metadata": {},
   "source": [
    "# Checkpoint 4"
   ]
  },
  {
   "cell_type": "code",
   "execution_count": 5,
   "metadata": {},
   "outputs": [
    {
     "name": "stderr",
     "output_type": "stream",
     "text": [
      "C:\\Anaconda\\lib\\site-packages\\ipykernel_launcher.py:2: SettingWithCopyWarning: \n",
      "A value is trying to be set on a copy of a slice from a DataFrame.\n",
      "Try using .loc[row_indexer,col_indexer] = value instead\n",
      "\n",
      "See the caveats in the documentation: http://pandas.pydata.org/pandas-docs/stable/indexing.html#indexing-view-versus-copy\n",
      "  \n"
     ]
    }
   ],
   "source": [
    "#extracting only the first sector from pipeline\n",
    "master_frame['primary_sector'] = master_frame['category_list'].apply(lambda x : str(x).split('|')[0])\n",
    "#master_frame['category_list']\n",
    "\n",
    "#mapping the primary sectors to its main sectors in mapping dataframe\n",
    "mapping = pd.read_csv('mapping.csv')\n",
    "mapping.set_index('category_list', inplace=True)\n",
    "mapping['main_sector'] = mapping.idxmax(axis=1)\n",
    "mapping = mapping[['main_sector']]\n",
    "mapping.reset_index(inplace=True)\n",
    "\n",
    "#Replacing 'na' at '0' for data cleaning and transforming\n",
    "mapping['category_list'] = mapping['category_list'].apply(lambda x : str(x).split('0'))\n",
    "mapping['category_list'] = mapping['category_list'].str.join(\"na\")\n",
    "\n",
    "#Mapping main sector to primary sector in master_frame by merging\n",
    "master_frame = pd.merge(master_frame, mapping, how='inner', left_on=\"primary_sector\", right_on='category_list')\n",
    "\n"
   ]
  },
  {
   "cell_type": "markdown",
   "metadata": {},
   "source": [
    "# Checkpoint 5"
   ]
  },
  {
   "cell_type": "code",
   "execution_count": 6,
   "metadata": {
    "scrolled": true
   },
   "outputs": [
    {
     "name": "stdout",
     "output_type": "stream",
     "text": [
      "-------Total Number of Investment count for USA, GBR, IND respectively--------\n",
      "12098\n",
      "626\n",
      "330\n",
      "-------------------------------------------------------------------------------\n",
      "-------Total Amount of Investment for USA, GBR, IND respectively---------\n",
      "108083057956.0\n",
      "5422993148.0\n",
      "2976543602.0\n",
      "--------------------------------------------------------------------------\n",
      "-------Top 3 sectors and Number of Investments in each for USA----------\n",
      "                               main_sector  no. of investments\n",
      "7                                   Others                2950\n",
      "8  Social, Finance, Analytics, Advertising                2714\n",
      "2               Cleantech / Semiconductors                2300\n",
      "------------------------------------------------------------------------\n",
      "-------Top 3 sectors and Number of Investments in each for GBR----------\n",
      "                               main_sector  no. of investments\n",
      "7                                   Others                 147\n",
      "8  Social, Finance, Analytics, Advertising                 133\n",
      "2               Cleantech / Semiconductors                 128\n",
      "------------------------------------------------------------------------\n",
      "-------Top 3 sectors and Number of Investments in each for IND----------\n",
      "                               main_sector  no. of investments\n",
      "7                                   Others                 110\n",
      "8  Social, Finance, Analytics, Advertising                  60\n",
      "6               News, Search and Messaging                  52\n",
      "------------------------------------------------------------------------\n",
      "-------Company that recieved Highest number of investments in USA--------\n",
      "Virtustream\n",
      "-------------------------------------------------------------------------\n",
      "-------Company that recieved Highest number of investments in GBR--------\n",
      "Electric Cloud\n",
      "-------------------------------------------------------------------------\n",
      "-------Company that recieved Highest number of investments in IND--------\n",
      "FirstCry.com\n",
      "-------------------------------------------------------------------------\n",
      "-------Company that recieved 2nd Highest number of investments in USA--------\n",
      "SST Inc. (Formerly ShotSpotter)\n",
      "-----------------------------------------------------------------------------\n",
      "-------Company that recieved 2nd Highest number of investments in GBR--------\n",
      "EUSA Pharma\n",
      "-----------------------------------------------------------------------------\n",
      "-------Company that recieved 2nd Highest number of investments in IND--------\n",
      "GupShup\n",
      "-----------------------------------------------------------------------------\n"
     ]
    }
   ],
   "source": [
    "#Filtering master_frame for investment amount between 5 to 5 million USD\n",
    "master_frame = master_frame[(master_frame['raised_amount_usd'] <= 15000000 ) & (master_frame['raised_amount_usd'] >= 5000000 )]\n",
    "\n",
    "#DataFrame for USA\n",
    "D1 = master_frame[(master_frame['country_code'] == 'USA')]\n",
    "\n",
    "#DataFrame for GBR\n",
    "D2 =  master_frame[(master_frame['country_code'] == 'GBR')]\n",
    "\n",
    "#DataFrame for IND\n",
    "D3 =  master_frame[(master_frame['country_code'] == 'IND')]\n",
    "\n",
    "\n",
    "#Table 5.1 \n",
    "\n",
    "#Solution to Q-1\n",
    "print('-------Total Number of Investment count for USA, GBR, IND respectively--------')\n",
    "print(D1.shape[0])\n",
    "print(D2.shape[0])\n",
    "print(D3.shape[0])\n",
    "print('-------------------------------------------------------------------------------')\n",
    "\n",
    "#Solution to Q-2\n",
    "print('-------Total Amount of Investment for USA, GBR, IND respectively---------')\n",
    "print(D1['raised_amount_usd'].sum())\n",
    "print(D2['raised_amount_usd'].sum())\n",
    "print(D3['raised_amount_usd'].sum())\n",
    "print('--------------------------------------------------------------------------')\n",
    "\n",
    "#Solution to Q-3, Q-4, Q-5, Q-6, Q-7, Q-8\n",
    "print('-------Top 3 sectors and Number of Investments in each for USA----------')\n",
    "print(D1.groupby('main_sector').size().reset_index(name = 'no. of investments').sort_values(by= 'no. of investments', ascending=False).head(3))\n",
    "print('------------------------------------------------------------------------')\n",
    "\n",
    "print('-------Top 3 sectors and Number of Investments in each for GBR----------')\n",
    "print(D2.groupby('main_sector').size().reset_index(name = 'no. of investments').sort_values(by= 'no. of investments', ascending=False).head(3))\n",
    "print('------------------------------------------------------------------------')\n",
    "\n",
    "print('-------Top 3 sectors and Number of Investments in each for IND----------')\n",
    "print(D3.groupby('main_sector').size().reset_index(name = 'no. of investments').sort_values(by= 'no. of investments', ascending=False).head(3))\n",
    "print('------------------------------------------------------------------------')\n",
    "\n",
    "#Solution to Q-9\n",
    "print('-------Company that recieved Highest number of investments in USA--------')\n",
    "print(D1[D1['main_sector'] == 'Others'].groupby('name').sum().sort_values(by = 'raised_amount_usd', ascending=False).head(1).index.item())\n",
    "print('-------------------------------------------------------------------------')\n",
    "\n",
    "print('-------Company that recieved Highest number of investments in GBR--------')\n",
    "print(D2[D2['main_sector'] == 'Others'].groupby('name').sum().sort_values(by = 'raised_amount_usd', ascending=False).head(1).index.item())\n",
    "print('-------------------------------------------------------------------------')\n",
    "\n",
    "print('-------Company that recieved Highest number of investments in IND--------')\n",
    "print(D3[D3['main_sector'] == 'Others'].groupby('name').sum().sort_values(by = 'raised_amount_usd', ascending=False).head(1).index.item())\n",
    "print('-------------------------------------------------------------------------')\n",
    "\n",
    "#Solution to Q-10\n",
    "print('-------Company that recieved 2nd Highest number of investments in USA--------')\n",
    "print(D1[D1['main_sector'] == 'Social, Finance, Analytics, Advertising'].groupby('name').sum().sort_values(by = 'raised_amount_usd', ascending=False).head(1).index.item())\n",
    "print('-----------------------------------------------------------------------------')\n",
    "\n",
    "print('-------Company that recieved 2nd Highest number of investments in GBR--------')\n",
    "print(D2[D2['main_sector'] == 'Cleantech / Semiconductors'].groupby('name').sum().sort_values(by = 'raised_amount_usd', ascending=False).head(1).index.item())\n",
    "print('-----------------------------------------------------------------------------')\n",
    "\n",
    "print('-------Company that recieved 2nd Highest number of investments in IND--------')\n",
    "print(D3[D3['main_sector'] == 'News, Search and Messaging'].groupby('name').sum().sort_values(by = 'raised_amount_usd', ascending=False).head(1).index.item())\n",
    "print('-----------------------------------------------------------------------------')\n"
   ]
  },
  {
   "cell_type": "markdown",
   "metadata": {},
   "source": [
    "# Checkpoint 6"
   ]
  },
  {
   "cell_type": "code",
   "execution_count": 7,
   "metadata": {},
   "outputs": [],
   "source": [
    "import matplotlib.pyplot as plt\n",
    "import seaborn as sns\n",
    "import numpy as np\n",
    "\n",
    "# Data frame for plot 1 which shows average amount of investment for investment type\n",
    "plot1 = master_frame_for_plot1.loc[master_frame_for_plot1['funding_round_type'].isin(['venture', 'seed', 'private_equity', 'angel'])].groupby('funding_round_type').mean()\n",
    "plot1['raised_amount_usd'] = plot1['raised_amount_usd'] /1000000\n",
    "plot1.reset_index(inplace=True)\n",
    "\n",
    "\n"
   ]
  },
  {
   "cell_type": "code",
   "execution_count": 8,
   "metadata": {},
   "outputs": [
    {
     "data": {
      "image/png": "[encoded data removed]",
      "text/plain": [
       "<Figure size 432x288 with 1 Axes>"
      ]
     },
     "metadata": {
      "needs_background": "light"
     },
     "output_type": "display_data"
    }
   ],
   "source": [
    "# Plotting for plot 1\n",
    "plot1.plot(x='funding_round_type', y='raised_amount_usd', kind='bar')\n",
    "figure_size = plt.rcParams[\"figure.figsize\"]\n",
    "figure_size[0] = 8\n",
    "figure_size[1] = 6\n",
    "plt.rcParams[\"figure.figsize\"] = figure_size\n",
    "plt.ylabel('Average Investment Amount (in Million USD)')\n",
    "plt.xlabel('Investment Type')\n",
    "plt.title('Average Investment Amount for a Investment type')\n",
    "plt.show()\n"
   ]
  },
  {
   "cell_type": "code",
   "execution_count": 9,
   "metadata": {},
   "outputs": [
    {
     "data": {
      "image/png": "[encoded data removed]",
      "text/plain": [
       "<Figure size 576x432 with 1 Axes>"
      ]
     },
     "metadata": {
      "needs_background": "light"
     },
     "output_type": "display_data"
    }
   ],
   "source": [
    "#Plotting for plot 2\n",
    "top9['raised_amount_usd'] = top9['raised_amount_usd']/1000000 \n",
    "top9.plot(x = 'country_code', y='raised_amount_usd', kind='bar' )\n",
    "figure_size = plt.rcParams[\"figure.figsize\"]\n",
    "figure_size[0] = 10\n",
    "figure_size[1] = 8\n",
    "plt.rcParams[\"figure.figsize\"] = figure_size\n",
    "plt.xlabel('Country Code')\n",
    "plt.ylabel('Sum of Total Investment Amount (in Million USD)')\n",
    "plt.title('Sum of Total Investment for a Country ')\n",
    "plt.show()"
   ]
  },
  {
   "cell_type": "code",
   "execution_count": 10,
   "metadata": {
    "scrolled": false
   },
   "outputs": [
    {
     "data": {
      "text/plain": [
       "<seaborn.axisgrid.FacetGrid at 0x1b3af54c940>"
      ]
     },
     "execution_count": 10,
     "metadata": {},
     "output_type": "execute_result"
    },
    {
     "data": {
      "image/png": "[encoded data removed]",
      "text/plain": [
       "<Figure size 658.125x432 with 1 Axes>"
      ]
     },
     "metadata": {
      "needs_background": "light"
     },
     "output_type": "display_data"
    }
   ],
   "source": [
    "# Plot data for USA\n",
    "\n",
    "plot3_Country1 = D1.groupby('main_sector').size().reset_index(name = 'no. of investments').sort_values(by= 'no. of investments', ascending=False).head(3)\n",
    "plot3_Country1['country_code'] = 'USA'\n",
    "plot3_Country1\n",
    "\n",
    "# Plot data for GBR\n",
    "plot3_Country2 = D2.groupby('main_sector').size().reset_index(name = 'no. of investments').sort_values(by= 'no. of investments', ascending=False).head(3)\n",
    "plot3_Country2['country_code'] = 'GBR'\n",
    "plot3_Country2\n",
    "\n",
    "# Plot data for IND\n",
    "plot3_Country3 = D2.groupby('main_sector').size().reset_index(name = 'no. of investments').sort_values(by= 'no. of investments', ascending=False).head(3)\n",
    "plot3_Country3['country_code'] = 'IND'\n",
    "plot3_Country3\n",
    "\n",
    "# Plot data for after merging three data frames for group plot\n",
    "Merged_plot = plot3_Country1.append(plot3_Country2).append(plot3_Country3)\n",
    "\n",
    "# Plotting for plot 3\n",
    "plot3 = sns.catplot(x=\"country_code\", y=\"no. of investments\", hue=\"main_sector\", data=Merged_plot, height=6, kind=\"bar\", palette=\"muted\")\n",
    "plot3.despine(left=True)\n",
    "plot3.set_ylabels(\"Total Number of Investments\")\n",
    "plot3.set_xlabels(\"Country Code\")"
   ]
  },
  {
   "cell_type": "code",
   "execution_count": null,
   "metadata": {},
   "outputs": [],
   "source": []
  }
 ],
 "metadata": {
  "kernelspec": {
   "display_name": "Python 3",
   "language": "python",
   "name": "python3"
  },
  "language_info": {
   "codemirror_mode": {
    "name": "ipython",
    "version": 3
   },
   "file_extension": ".py",
   "mimetype": "text/x-python",
   "name": "python",
   "nbconvert_exporter": "python",
   "pygments_lexer": "ipython3",
   "version": "3.7.4"
  }
 },
 "nbformat": 4,
 "nbformat_minor": 2
}
